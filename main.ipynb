{
 "cells": [
  {
   "cell_type": "markdown",
   "metadata": {},
   "source": [
    "# Prompt Engineer Basics"
   ]
  },
  {
   "cell_type": "markdown",
   "metadata": {},
   "source": [
    "## ¿ Que es el prompt engineer?"
   ]
  },
  {
   "cell_type": "markdown",
   "metadata": {},
   "source": [
    "Prompting engineer es un profesional especializado en la creación, optimización y perfeccionamiento de instrucciones o preguntas (prompts) dirigidas a modelos de inteligencia artificial generativa, con el fin de obtener resultados específicos, precisos y útiles, aprovechando al máximo las capacidades del modelo utilizado."
   ]
  },
  {
   "cell_type": "code",
   "execution_count": null,
   "metadata": {},
   "outputs": [],
   "source": [
    "from langchain_openai import ChatOpenAI # Importar modulo para habilitar chat con OpenAI, pero usaremos openrouter\n",
    "from langchain_core.messages import SystemMessage, HumanMessage\n",
    "import os # para obtener variables de entorno\n",
    "\n",
    "OPENROUTER_API_KEY = \"\""
   ]
  },
  {
   "cell_type": "code",
   "execution_count": 2,
   "metadata": {},
   "outputs": [],
   "source": [
    "def get_model(model_name=\"openai/gpt-4o-mini\",openai_api_key:str=OPENROUTER_API_KEY, openai_api_base:str=\"https://openrouter.ai/api/v1\" ) ->ChatOpenAI:\n",
    "    # alternatively you can use OpenAI directly via ChatOpenAI(model=\"gpt-4o\") via -> from langchain_openai import ChatOpenAI\n",
    "    return ChatOpenAI(model=model_name,\n",
    "        openai_api_key=openai_api_key,\n",
    "        openai_api_base=openai_api_base)"
   ]
  },
  {
   "cell_type": "code",
   "execution_count": 3,
   "metadata": {},
   "outputs": [],
   "source": [
    "gpt4o = get_model()"
   ]
  },
  {
   "cell_type": "code",
   "execution_count": 24,
   "metadata": {},
   "outputs": [],
   "source": [
    "h1 = HumanMessage(\"Eres un psicologo que habla como emojis con falacias. ¿vale?\")\n",
    "result = gpt4o.invoke([h1])"
   ]
  },
  {
   "cell_type": "code",
   "execution_count": 25,
   "metadata": {},
   "outputs": [
    {
     "data": {
      "text/plain": [
       "'Claro, ¡aquí vamos! 😊✨ \\n\\nCuando hablo de emociones, es como decir que todos los gatos son malvados porque un gato me rasguñó. 🐱😾 Eso no es cierto, ¡pero se siente así! \\n\\nAdemás, si sientes tristeza, significa que eres débil. 😢❌ Pero en realidad, todos tenemos días difíciles. 💪❤️\\n\\nRecuerda, ¡siempre hay un arco iris después de la lluvia! 🌈☔️ Pero si no lo ves, es porque no estás buscando bien. 👀🔍\\n\\n¿Listo para seguir con emociones? 🤔🎉'"
      ]
     },
     "execution_count": 25,
     "metadata": {},
     "output_type": "execute_result"
    }
   ],
   "source": [
    "result.content"
   ]
  },
  {
   "cell_type": "code",
   "execution_count": 26,
   "metadata": {},
   "outputs": [],
   "source": [
    "h2 = HumanMessage(\"¿Qué es el amor?\")\n",
    "result2 = gpt4o.invoke([h1, result,h2])"
   ]
  },
  {
   "cell_type": "code",
   "execution_count": 27,
   "metadata": {},
   "outputs": [
    {
     "name": "stdout",
     "output_type": "stream",
     "text": [
      "El amor es como un pastel 🎂: a veces dulce, a veces un poco amargo, y siempre con muchas capas. 💖✨ Pero, ¿qué pasa si no te gusta el chocolate? 🍫❌ Eso significa que no puedes disfrutar de ningún pastel. 🙄😅\n",
      "\n",
      "En realidad, el amor es solo una ilusión 😍✨, y si piensas que tienes amor, probablemente solo sea una atracción física. 💘🏋️‍♂️ ¡Es como decir que un relámpago es lo mismo que una tormenta! ⚡️🌩️ \n",
      "\n",
      "A veces, el amor se siente como un maratón 🏃‍♀️🏃‍♂️, ¡pero si te cansas en la carrera, no deberías haber corrido en primer lugar! 😅🤷‍♀️\n",
      "\n",
      "Al final, el amor es lo que tú dices que es, pero tampoco es tan complicado... o eso dice la gente. 🤔🤷‍♂️❤️\n"
     ]
    }
   ],
   "source": [
    "print(result2.content)"
   ]
  },
  {
   "cell_type": "markdown",
   "metadata": {},
   "source": [
    "## ¿Qué es Zero-Shot Prompting?\n",
    "\n",
    "**Zero-shot prompting** es una técnica usada con modelos de lenguaje (como ChatGPT) para obtener respuestas sobre tareas que el modelo no ha visto antes, **sin proporcionarle ejemplos previos**.\n",
    "\n",
    "### Características principales:\n",
    "- **Sin ejemplos previos**: Simplemente haces una pregunta o petición directa al modelo.\n",
    "- **Respuestas basadas en conocimiento general**: El modelo responde usando únicamente lo aprendido durante su entrenamiento.\n",
    "\n",
    "### Ejemplo sencillo:\n",
    "\n",
    "**Prompt:**\n",
    "> _\"Clasifica este texto como 'positivo' o 'negativo': 'Me encantó esta película.'\"_\n",
    "\n",
    "**Respuesta del modelo (sin haber recibido ejemplos previos):**\n",
    "> _\"Positivo.\"_\n",
    "\n",
    "Esto se diferencia claramente del **few-shot prompting**, en el cual sí se proporcionan algunos ejemplos al modelo antes de pedirle una resp\n"
   ]
  },
  {
   "cell_type": "code",
   "execution_count": 29,
   "metadata": {},
   "outputs": [],
   "source": [
    "s1 = SystemMessage(content=\"\"\"\n",
    "Clasifica como spam o no spam.\n",
    "\"\"\")\n",
    "\n",
    "h1 = HumanMessage(\"Hola, Ganaste un premio de 1000 dolares, solo debes hacer click en el siguiente enlace para reclamarlo.\")"
   ]
  },
  {
   "cell_type": "code",
   "execution_count": 30,
   "metadata": {},
   "outputs": [
    {
     "data": {
      "text/plain": [
       "'Spam'"
      ]
     },
     "execution_count": 30,
     "metadata": {},
     "output_type": "execute_result"
    }
   ],
   "source": [
    "result = gpt4o.invoke([s1,h1])\n",
    "result.content"
   ]
  },
  {
   "cell_type": "code",
   "execution_count": 31,
   "metadata": {},
   "outputs": [
    {
     "name": "stdout",
     "output_type": "stream",
     "text": [
      "No spam.\n"
     ]
    }
   ],
   "source": [
    "h2 = HumanMessage(\"Hola señor gonzales. Su cita odontologicase ha programado para el dia de mañana a las 10:00 am. Por favor confirmar asistencia.\")\n",
    "result2 = gpt4o.invoke([s1,h2])\n",
    "print(result2.content)"
   ]
  },
  {
   "cell_type": "markdown",
   "metadata": {},
   "source": [
    "Ejercicio 1: Clasificacion de sentimientos"
   ]
  },
  {
   "cell_type": "code",
   "execution_count": 33,
   "metadata": {},
   "outputs": [],
   "source": [
    "trino1 = \"\"\"\n",
    "Otra vez llegué tarde al trabajo por el pésimo servicio del transporte público. ¡Estoy harto! \n",
    "\"\"\" # positivo\n",
    "trino2 = \"\"\"\n",
    "Qué decepción la película, esperaba mucho más después de tanto ruido. Una pérdida de tiempo.\n",
    "\"\"\" # positivo\n",
    "trino3 = \"\"\"\n",
    "¡Hoy recibí la mejor noticia! Por fin conseguí ese trabajo que tanto quería. ¡Estoy feliz!\"\n",
    "\"\"\" # negativo\n",
    "trino4 = \"\"\"\n",
    "La reunión mensual con el equipo será mañana a las 10:00 am, en la sala principal.\n",
    "\"\"\" # neutro"
   ]
  },
  {
   "cell_type": "markdown",
   "metadata": {},
   "source": [
    "Ejercicio 2: Zero shot extraccion"
   ]
  },
  {
   "cell_type": "code",
   "execution_count": null,
   "metadata": {},
   "outputs": [],
   "source": [
    "trino = \"\"\"\n",
    "El precio de la carne subio un 3% respecto al mes anterior que estaba en 17mil pesos el kilo.\n",
    "\"\"\"\n",
    "# ¿En cuanto esta el precio de la carne?"
   ]
  },
  {
   "cell_type": "markdown",
   "metadata": {},
   "source": [
    "¿Qué es Few-shot prompting?\n",
    "\n",
    "Few-shot prompting es una técnica utilizada con modelos de lenguaje en la que proporcionas algunos ejemplos específicos (usualmente de 1 a 5) antes de pedir al modelo que realice una tarea determinada. Esto mejora la precisión de las respuestas al darle al modelo una idea clara sobre lo que esperas.\n",
    "\n",
    "Características principales:\n",
    "- Proporciona ejemplos previos: Incluyes ejemplos específicos antes de solicitar una respuesta.\n",
    "- Mejora la precisión: Ayuda al modelo a comprender exactamente qué tipo de respuesta se espera.\n",
    "- Flexible: No requiere entrenamiento adicional, solo algunos ejemplos dentro del mismo prompt.\n",
    "\n",
    "Ejemplo práctico de Few-shot prompting:\n",
    "\n",
    "Prompt (Few-shot):\n",
    "Frase: \"La comida estaba deliciosa.\"\n",
    "Sentimiento: positivo.\n",
    "\n",
    "Frase: \"Este producto es pésimo.\"\n",
    "Sentimiento: negativo.\n",
    "\n",
    "Frase: \"No está mal, pero podría mejorar.\"\n",
    "Sentimiento: neutro.\n",
    "\n",
    "Frase: \"Estoy decepcionado del servicio recibido.\"\n",
    "Sentimiento:\n",
    "\n",
    "Respuesta del modelo:\n",
    "negativo.\n",
    "\n",
    "Ventajas de Few-shot prompting:\n",
    "- Guía claramente al modelo sobre cómo responder.\n",
    "- Útil especialmente en tareas nuevas o ambiguas.\n",
    "- Mejora significativamente la precisión comparado con zero-shot prompting.\n",
    "\n",
    "Diferencias entre Zero-shot y Few-shot prompting:\n",
    "\n",
    "Zero-shot prompting:\n",
    "- No usa ejemplos previos.\n",
    "- Puede ser menos preciso en tareas difíciles o desconocidas.\n",
    "- Más sencillo y rápido.\n",
    "\n",
    "Few-shot prompting:\n",
    "- Usa algunos ejemplos previos.\n",
    "- Es más preciso al clarificar exactamente qué respuesta se espera.\n",
    "- Ligeramente más largo, pero más preciso.\n",
    "\n",
    "En resumen, Few-shot prompting consiste en dar algunos ejemplos antes de hacer la petición principal para guiar al modelo hacia una respuesta más precisa."
   ]
  },
  {
   "cell_type": "markdown",
   "metadata": {},
   "source": []
  },
  {
   "cell_type": "code",
   "execution_count": 34,
   "metadata": {},
   "outputs": [],
   "source": [
    "few_shot1 = \"\"\"Correo: \"Oferta limitada: gana dinero fácil desde casa.\"\n",
    "Clasificación: spam.\n",
    "\n",
    "Correo: \"Factura de electricidad disponible para consulta.\"\n",
    "Clasificación: legítimo.\n",
    "\n",
    "Correo: \"Felicitaciones, has ganado un premio increíble.\"\n",
    "Clasificación: spam.\n",
    "\n",
    "Correo: \"Resumen de la reunión del día lunes.\"\n",
    "Clasificación:\"\"\"\n",
    "\n",
    "h1 = HumanMessage(content=few_shot1)\n",
    "result = gpt4o.invoke([h1])"
   ]
  },
  {
   "cell_type": "markdown",
   "metadata": {},
   "source": [
    "Ejercicio 1: Few Shot Keto"
   ]
  },
  {
   "cell_type": "markdown",
   "metadata": {},
   "source": [
    "La dieta keto (cetogénica) es una alimentación baja en carbohidratos, moderada en proteínas y alta en grasas, diseñada para que el cuerpo entre en un estado llamado cetosis, donde utiliza grasa como fuente principal de energía en lugar de glucosa."
   ]
  },
  {
   "cell_type": "markdown",
   "metadata": {},
   "source": [
    "Ejericio 2: Few Shot lista de compras."
   ]
  },
  {
   "cell_type": "markdown",
   "metadata": {},
   "source": [
    "Usando few shot haz que la llm retorne el peso de los ingredientes en ingles y en libras. (No decirle a la LLM directamente que lo retorne en esas unidades y en ingles)\n",
    "\n",
    "- Aguacate: 1 kg\n",
    "- Pechuga de pollo: 1.5 kg\n",
    "- Salmón fresco: 1 kg\n",
    "- Huevos: 1 kg (~16 huevos medianos)\n",
    "- Brócoli: 0.5 kg\n",
    "- Espinacas frescas: 0.5 kg\n",
    "- Queso maduro (tipo manchego): 0.5 kg\n",
    "- Aceite de oliva extra virgen: 1 kg (aprox. 1 litro)\n"
   ]
  },
  {
   "cell_type": "code",
   "execution_count": null,
   "metadata": {},
   "outputs": [],
   "source": []
  },
  {
   "cell_type": "markdown",
   "metadata": {},
   "source": [
    "Ejercicio 3\n",
    "Haz que la LLM retorne las fechas en formato YYYY/M/D \n",
    "\n",
    "- \"La conferencia fue el 15 de mayo en Barcelona. Hoy es 01 de septiembre del 2001\"\n",
    "- \"La boda de Carlos y Ana será el 12 de junio en Madrid de este año.\"\n",
    "- \"El concierto de Shakira que era el 20 de febrero lo cancelaron, lo van a reprogramar en otra fecha del 2025\""
   ]
  },
  {
   "cell_type": "code",
   "execution_count": null,
   "metadata": {},
   "outputs": [],
   "source": []
  },
  {
   "cell_type": "markdown",
   "metadata": {},
   "source": [
    "## ¿Qué es Chain-of-Thought (CoT)?\n",
    "\n",
    "**Chain-of-Thought (CoT)**, también conocido como \"cadena de razonamiento\", es una técnica utilizada en modelos de lenguaje (como ChatGPT), que consiste en pedir explícitamente al modelo que explique paso a paso su razonamiento antes de dar una respuesta final. Esto permite mejorar significativamente la precisión y claridad en tareas complejas o que requieren lógica y deducción.\n",
    "\n",
    "### Características clave del CoT:\n",
    "- **Razonamiento explícito:** El modelo muestra claramente cada paso antes de llegar a una conclusión.\n",
    "- **Mejora precisión:** Reduce errores al obligar al modelo a revisar su lógica.\n",
    "- **Facilita revisión:** Permite verificar y corregir fácilmente cualquier error lógico en las respuestas.\n",
    "- **Transparencia:** La respuesta es más comprensible y confiable para el usuario.\n",
    "\n",
    "### Ejemplo práctico extendido:\n",
    "\n",
    "Sin CoT (respuesta directa):\n",
    "\n",
    "Prompt:\n",
    "\"Si compro 3 libros que cuestan 15 dólares cada uno y pago con un billete de 50 dólares, ¿cuánto cambio recibiré?\"\n",
    "\n",
    "Respuesta rápida del modelo:\n",
    "\"5 dólares.\"\n",
    "\n",
    "Con CoT (paso a paso):\n",
    "\n",
    "Prompt:\n",
    "\"Si compro 3 libros que cuestan 15 dólares cada uno y pago con un billete de 50 dólares, ¿cuánto cambio recibiré? Explica tu razonamiento paso a paso.\"\n",
    "\n",
    "Respuesta detallada:\n",
    "\"Primero calculo el costo total: 3 libros × 15 dólares = 45 dólares.  \n",
    "Luego resto ese total del billete con el que pago: 50 dólares - 45 dólares = 5 dólares.  \n",
    "Por lo tanto, recibiré 5 dólares de cambio.\"\n",
    "\n",
    "### ¿Cuándo usar Chain-of-Thought?\n",
    "\n",
    "Es especialmente útil cuando:\n",
    "- Se resuelven problemas matemáticos o lógicos.\n",
    "- Se explican conceptos complejos.\n",
    "- Necesitas respuestas claras, confiables y fáciles de revisar.\n",
    "- Observas que el modelo comete errores en respuestas directas.\n"
   ]
  },
  {
   "cell_type": "code",
   "execution_count": 37,
   "metadata": {},
   "outputs": [],
   "source": [
    "query = \"Si compro 3 libros que cuestan 15 dólares cada uno y pago con un billete de 50 dólares, ¿cuánto cambio recibiré?\""
   ]
  },
  {
   "cell_type": "code",
   "execution_count": 38,
   "metadata": {},
   "outputs": [
    {
     "name": "stdout",
     "output_type": "stream",
     "text": [
      "El total de la compra sería 3 x $15 = $45. \n",
      "\n",
      "Por lo tanto, si pagas con un billete de $50, entonces recibirás $50 - $45 = $5 de cambio. \n",
      "\n",
      "Recibirás 5 dólares de cambio.\n"
     ]
    }
   ],
   "source": [
    "gpt35 = get_model(\"openai/gpt-3.5-turbo-0613\")\n",
    "\n",
    "h1 = HumanMessage(content=query)\n",
    "result = gpt35.invoke([h1])\n",
    "print(result.content)\n"
   ]
  },
  {
   "cell_type": "markdown",
   "metadata": {},
   "source": [
    "Ejercicio COT 1\n",
    "\n",
    "Un tanque de agua se llena usando dos tuberías. La primera tubería llena el tanque en 4 horas, y la segunda en 6 horas. Si ambas tuberías se abren simultáneamente pero después de 2 horas la primera tubería se cierra, ¿cuánto tiempo adicional tardará la segunda tubería en terminar de llenar completamente el tanque?"
   ]
  },
  {
   "cell_type": "code",
   "execution_count": 39,
   "metadata": {},
   "outputs": [
    {
     "name": "stdout",
     "output_type": "stream",
     "text": [
      "La primera tubería llena el tanque en 4 horas, por lo tanto en 1 hora llena 1/4 del tanque.\n",
      "La segunda tubería llena el tanque en 6 horas, por lo tanto en 1 hora llena 1/6 del tanque.\n",
      "\n",
      "Cuando ambas tuberías se abren simultáneamente, en 2 horas llenarán (2/4 + 2/6) del tanque = (1/2 + 1/3) del tanque = 5/6 del tanque.\n",
      "\n",
      "Después de 2 horas, la primera tubería se cierra, por lo que solo queda 1/6 del tanque por llenar.\n",
      "\n",
      "Ahora solo la segunda tubería permanece abierta, y sabemos que en 1 hora llena 1/6 del tanque. Por lo tanto, tardará 1 hora adicional en llenar completamente el tanque.\n"
     ]
    }
   ],
   "source": [
    "h1 = HumanMessage(content=\"Un tanque de agua se llena usando dos tuberías. La primera tubería llena el tanque en 4 horas, y la segunda en 6 horas. Si ambas tuberías se abren simultáneamente pero después de 2 horas la primera tubería se cierra, ¿cuánto tiempo adicional tardará la segunda tubería en terminar de llenar completamente el tanque?\")\n",
    "result = gpt35.invoke([h1])\n",
    "print(result.content)"
   ]
  },
  {
   "cell_type": "code",
   "execution_count": 40,
   "metadata": {},
   "outputs": [
    {
     "name": "stdout",
     "output_type": "stream",
     "text": [
      "Para resolver este problema, primero calculamos la fracción del tanque que la primera tubería llena en 2 horas. Sabemos que la primera tubería llena el tanque en 4 horas, por lo que en 2 horas llenará la mitad del tanque. Por lo tanto, en 2 horas la primera tubería habrá llenado 1/2 del tanque.\n",
      "\n",
      "Luego, tanto la primera como la segunda tubería se abren juntas, por lo que en una hora llenarán 1/4 + 1/6 = 5/12 del tanque. \n",
      "\n",
      "Sabemos que la primera tubería se cierra después de 2 horas, por lo que en ese tiempo habrá llenado 1/2 del tanque. Luego, la segunda tubería continúa llenando el tanque. \n",
      "\n",
      "Para determinar cuánto tiempo adicional tardará la segunda tubería en terminar de llenar completamente el tanque, calculamos cuánto tiempo le tomará llenar la otra mitad del tanque. Como en una hora llenan 5/12 del tanque, en 1/2 hora llenarán 5/12 * 1/2 = 5/24 del tanque.\n",
      "\n",
      "Por lo tanto, le tomará a la segunda tubería 1/2 hora adicional (30 minutos) llenar completamente el tanque después de que la primera tubería se haya cerrado.\n"
     ]
    }
   ],
   "source": [
    "h1 = HumanMessage(content=\"\"\"\"\n",
    "\"Un tanque de agua se llena usando dos tuberías. La primera tubería llena el tanque en 4 horas, y la segunda en 6 horas. Si ambas tuberías se abren simultáneamente pero después de 2 horas la primera tubería se cierra, ¿cuánto tiempo adicional tardará la segunda tubería en terminar de llenar completamente el tanque?\n",
    "            Explica tu razonamiento paso a paso.\n",
    "                  \"\"\")\n",
    "result = gpt35.invoke([h1])\n",
    "print(result.content)"
   ]
  },
  {
   "cell_type": "markdown",
   "metadata": {},
   "source": [
    "# Incentivando el COT Strategy."
   ]
  },
  {
   "cell_type": "code",
   "execution_count": null,
   "metadata": {},
   "outputs": [],
   "source": [
    "strategy = \"\"\"\n",
    "Eres un experto en problemas matematicos. Tu tarea es resolver problemas matematicos de nivel secundaria y universitario.\n",
    "\n",
    "Steps:\n",
    "1. Leer el problema.\n",
    "2. Entender el problema.\n",
    "3. Diseñar una estrategia para resolver el problema.\n",
    "4. Resolver el problema.\n",
    "5. Verificar la solución.\n",
    "\n",
    "Explica tu razonamiento paso a paso.\n",
    "\n",
    "\"\"\""
   ]
  },
  {
   "cell_type": "code",
   "execution_count": 44,
   "metadata": {},
   "outputs": [
    {
     "name": "stdout",
     "output_type": "stream",
     "text": [
      "Pasos a seguir:\n",
      "\n",
      "1. **Leer el problema**: El tanque se llena usando dos tuberías, una que llena el tanque en 4 horas y otra en 6 horas. Ambas se abren al mismo tiempo, pero después de 2 horas la primera se cierra.\n",
      "\n",
      "2. **Entender el problema**: La primera tubería llena parte del tanque en 2 horas, y luego la segunda tubería opera sola para llenar el resto del tanque.\n",
      "\n",
      "3. **Diseñar una estrategia para resolver el problema**:\n",
      "   - Calcular la parte del tanque que llena la primera tubería en 2 horas.\n",
      "   - Calcular cuánto del tanque queda por llenar después de esas 2 horas.\n",
      "   - Utilizar la segunda tubería para determinar cuánto tiempo tardará en llenar el resto del tanque.\n",
      "\n",
      "4. **Resolver el problema**:\n",
      "\n",
      "Primero, calculemos el porcentaje de trabajo que ha realizado la primera tubería en 2 horas:\n",
      "- La primera tubería llena $1/4$ del tanque en 1 hora, por lo tanto, en 2 horas llenará $\\frac{1}{4} \\times 2 = \\frac{1}{2}$ del tanque.\n",
      "\n",
      "Esto significa que después de 2 horas, quedará por llenar $\\frac{1}{2}$ del tanque.\n",
      "\n",
      "Para encontrar cuánto tardará la segunda tubería en llenar este resto:\n",
      "- La segunda tubería llena $1/6$ del tanque en 1 hora. Si le falta llenar $\\frac{1}{2}$ del tanque:\n",
      "    - Tiempo adicional necesario $= \\frac{\\frac{1}{2}}{\\frac{1}{6}} = \\frac{1}{2} \\times 6 = 3$ horas.\n",
      "\n",
      "5. **Verificar la solución**:\n",
      "- Después de 2 horas, la primera tubería ha llenado la mitad del tanque, por lo que el resto del tanque debe llenarse con la segunda tubería.\n",
      "- La segunda tubería llena $\\frac{1}{6}$ del tanque en 1 hora. Tardará 3 horas adicionales para llenar la mitad restante del tanque.\n",
      "- Por lo tanto, la solución parece correcta.\n"
     ]
    }
   ],
   "source": [
    "strategy = SystemMessage(content=strategy)\n",
    "problem = \"Problema: Un tanque de agua se llena usando dos tuberías. La primera tubería llena el tanque en 4 horas, y la segunda en 6 horas. Si ambas tuberías se abren simultáneamente pero después de 2 horas la primera tubería se cierra, ¿cuánto tiempo adicional tardará la segunda tubería en terminar de llenar completamente el tanque?\"\n",
    "h1 = HumanMessage(content=problem)\n",
    "result = gpt35.invoke([strategy,h1])\n",
    "print(result.content)"
   ]
  },
  {
   "cell_type": "code",
   "execution_count": 46,
   "metadata": {},
   "outputs": [],
   "source": [
    "strategy = \"\"\"\n",
    "Eres un experto en problemas matematicos. Tu tarea es resolver problemas matematicos de nivel secundaria y universitario.\n",
    "\n",
    "Steps:\n",
    "1. Leer el problema.\n",
    "2. Entender el problema.\n",
    "3. Diseñar una estrategia para resolver el problema.\n",
    "4. Resolver el problema.\n",
    "5. Verificar la solución.\n",
    "\n",
    "<Example>\n",
    "Problema: ¿Cuanto es 2+2 * 3?\n",
    "1. Leer el problema: Entiendo que el problema es una operación aritmética.\n",
    "2. Entender el problema: La operación es una multiplicación y una suma. Debomos seguir la jerarquia de operaciones.\n",
    "3. Diseñar una estrategia para resolver el problema:\n",
    "    3.1 Multiplicar 2*3 = 6 ya que es la primera operación.\n",
    "    3.2 Sumar 2+6 = 8 ya que es la segunda operación.\n",
    "4. Resolver el problema: 8\n",
    "5. Verificar la solución: La solución es correcta. Dado que se siguio la jerarquia de operaciones.\n",
    "</Example>\n",
    "\n",
    "\n",
    "Explica tu razonamiento paso a paso.\n",
    "\n",
    "\"\"\""
   ]
  },
  {
   "cell_type": "code",
   "execution_count": 47,
   "metadata": {},
   "outputs": [
    {
     "name": "stdout",
     "output_type": "stream",
     "text": [
      "1. Leer el problema: Se tiene un tanque que se llena con dos tuberías, cada una con un tiempo de llenado diferente. Luego de 2 horas, se cierra la primera tubería y se quiere saber cuánto tiempo tardará la segunda tubería en terminar de llenar el tanque.\n",
      "\n",
      "2. Entender el problema: Se necesita encontrar el tiempo adicional que tomará la segunda tubería para llenar el tanque después de cerrarse la primera tubería. Es importante considerar que la primera tubería llena durante 2 horas.\n",
      "\n",
      "3. Diseñar una estrategia para resolver el problema:\n",
      "    3.1 Calcular la tarea que realiza la primera tubería en 2 horas.\n",
      "    3.2 Determinar cuánto del tanque queda por llenar.\n",
      "    3.3 Calcular cuánto tiempo tardará la segunda tubería en terminar de llenar el tanque restante.\n",
      "\n",
      "4. Resolver el problema:\n",
      "    3.1 La primera tubería llena en 4 horas, por lo que en 2 horas llena (2/4) del tanque.\n",
      "        Tarea realizada por la primera tubería = (2/4) = 1/2 del tanque.\n",
      "    3.2 El tanque queda por llenar (1 - 1/2) = 1/2 del tanque.\n",
      "    3.3 La segunda tubería tarda 6 horas en llenar el tanque, por lo que en 1 hora llena (1/6) del tanque.\n",
      "        Para llenar 1/2 del tanque, la segunda tubería tardará (1/2) / (1/6) = 3 horas.\n",
      "\n",
      "5. Verificar la solución: Después de cerrarse la primera tubería, la segunda tubería tardará 3 horas adicionales en terminar de llenar completamente el tanque.\n"
     ]
    }
   ],
   "source": [
    "strategy = SystemMessage(content=strategy)\n",
    "problem = \"Problema: Un tanque de agua se llena usando dos tuberías. La primera tubería llena el tanque en 4 horas, y la segunda en 6 horas. Si ambas tuberías se abren simultáneamente pero después de 2 horas la primera tubería se cierra, ¿cuánto tiempo adicional tardará la segunda tubería en terminar de llenar completamente el tanque?\"\n",
    "h1 = HumanMessage(content=problem)\n",
    "result = gpt35.invoke([strategy,h1])\n",
    "print(result.content)"
   ]
  },
  {
   "cell_type": "markdown",
   "metadata": {},
   "source": [
    "# Incentivar tipo de salida"
   ]
  },
  {
   "cell_type": "code",
   "execution_count": 50,
   "metadata": {},
   "outputs": [],
   "source": [
    "output_parser = \"\"\"\n",
    "Eres un sistema que dada una lista de opciones las retornas en un json bien formateado. Solo debes retornar el json sin adicionar ningun texto.\n",
    "\n",
    "Ejemplo de json:\n",
    "\n",
    "{\n",
    "    \"clave\": \"valor\"\n",
    "}\n",
    "\n",
    "\"\"\"\n"
   ]
  },
  {
   "cell_type": "code",
   "execution_count": 58,
   "metadata": {},
   "outputs": [],
   "source": [
    "lista_compras = \"\"\"\n",
    "- Aguacate: 1 kg\n",
    "- Pechuga de pollo: 1.5 kg\n",
    "- Salmón fresco: 1 kg\n",
    "- Huevos: 1 kg (~16 huevos medianos)\n",
    "- Brócoli: 0.5 kg\n",
    "- Espinacas frescas: 0.5 kg\n",
    "- Queso maduro (tipo manchego): 0.5 kg\n",
    "- Aceite de oliva extra virgen: 1 kg (aprox. 1 litro)\n",
    "\"\"\"\n",
    "\n",
    "keto_01 = f\"\"\"\n",
    "input: Atun 3kg\n",
    "output: Atun 6lb\n",
    "\n",
    "input: fresas 1kg\n",
    "output: fresas 2lb\n",
    "\n",
    "input: tomates 0.5kg\n",
    "output: tomates 1lb\n",
    "\n",
    "{lista_compras}\n",
    "\"\"\""
   ]
  },
  {
   "cell_type": "code",
   "execution_count": 59,
   "metadata": {},
   "outputs": [
    {
     "name": "stdout",
     "output_type": "stream",
     "text": [
      "- Aguacate: 2.2 lb\n",
      "- Pechuga de pollo: 3.3 lb\n",
      "- Salmón fresco: 2.2 lb\n",
      "- Huevos: 2.2 lb (~16 huevos medianos)\n",
      "- Brócoli: 1.1 lb\n",
      "- Espinacas frescas: 1.1 lb\n",
      "- Queso maduro (tipo manchego): 1.1 lb\n",
      "- Aceite de oliva extra virgen: 2.2 lb (aprox. 1 litro)\n"
     ]
    }
   ],
   "source": [
    "human = HumanMessage(content=keto_01)\n",
    "result = gpt35.invoke([human])\n",
    "print(result.content)"
   ]
  },
  {
   "cell_type": "code",
   "execution_count": 60,
   "metadata": {},
   "outputs": [
    {
     "data": {
      "text/plain": [
       "{'Aguacate': '2.2 lb',\n",
       " 'Pechuga de pollo': '3.3 lb',\n",
       " 'Salmón fresco': '2.2 lb',\n",
       " 'Huevos': '2.2 lb (~16 huevos medianos)',\n",
       " 'Brócoli': '1.1 lb',\n",
       " 'Espinacas frescas': '1.1 lb',\n",
       " 'Queso maduro (tipo manchego)': '1.1 lb',\n",
       " 'Aceite de oliva extra virgen': '2.2 lb (aprox. 1 litro)'}"
      ]
     },
     "execution_count": 60,
     "metadata": {},
     "output_type": "execute_result"
    }
   ],
   "source": [
    "result = gpt35.invoke([SystemMessage(content=output_parser),result])\n",
    "import json\n",
    "\n",
    "lista_diccionario = json.loads(result.content)\n",
    "lista_diccionario"
   ]
  },
  {
   "cell_type": "code",
   "execution_count": 61,
   "metadata": {},
   "outputs": [
    {
     "data": {
      "text/plain": [
       "'2.2 lb'"
      ]
     },
     "execution_count": 61,
     "metadata": {},
     "output_type": "execute_result"
    }
   ],
   "source": [
    "lista_diccionario[\"Aguacate\"]"
   ]
  },
  {
   "cell_type": "markdown",
   "metadata": {},
   "source": [
    "# Reto 001: Factura servicios publicos\n",
    "\n",
    "Extraer de la factura en formato JSON la siguiente información:\n",
    "Nombre del cliente, direccion de cobro, estrato, valor total a pagar consumo de energia, costo del kilovatio hora."
   ]
  },
  {
   "cell_type": "code",
   "execution_count": 63,
   "metadata": {},
   "outputs": [],
   "source": [
    "\n",
    "\n",
    "factura001 = \"\"\"\n",
    "### Factura de Servicios Públicos EPM\n",
    "\n",
    "**Encabezado:**\n",
    "*   **Dirección prestación servicio:** calle falsa 123 (interior 301)\n",
    "*   **Municipio:** Medellín - Antioquia\n",
    "\n",
    "**Información General:**\n",
    "\n",
    "*   **Documento Equivalente Electrónico SPD N°:** DEE100439\n",
    "*   **Contrato:** 4071023\n",
    "*   **Referente de pago:** 1058617580-22\n",
    "*   **Documento No:** 12345\n",
    "*   **Cliente:** Homero J Simpson\n",
    "*   **CC/NIT:** 123456789\n",
    "*   **Dirección de cobro:** calle falsa 123 (INTERIOR 301)\n",
    "*   **Medellín - Antioquia**\n",
    "*   **Estrato:** 3\n",
    "*   **Ciclo:** 16\n",
    "*   **Código de barras:** 0584100400001-16-001628151\n",
    "\n",
    "*   **Valor total a pagar:** $449.970\n",
    "*   **Pagar hasta el:** 11-mar-2025\n",
    "*   El pago después de esta fecha generará intereses de mora.\n",
    "\n",
    "**Imágenes:**\n",
    "*   Código QR con información del contrato y valores.\n",
    "*   Imagen de incremento/decremento/igual en los servicios.\n",
    "\n",
    "---\n",
    "#### Acueducto\n",
    "\n",
    "*   **Cálculo Consumo del 04 ene al 04 feb (31 días)**\n",
    "    *   Lectura actual: 1.774\n",
    "    *   Lectura anterior: 1.748\n",
    "    *   Consumo: 26 m³\n",
    "\n",
    "    *   **Valores Facturados**\n",
    "        *   Consumo feb-25: 13 m³ x 4.687,36 = $60.935,68\n",
    "        *   Consumo feb-25: 13 m³ x 4.687,36 = $60.935,68\n",
    "        *   Cargo fijo feb-25: 9.252,53\n",
    "        *   Subsidio: -8.773,53\n",
    "        *   Interés mora %0,4856 emv: 87,64\n",
    "        *   **Total Acueducto:** $122.438\n",
    "    *   **Observaciones:** 30 - variación nivel de utilización.\n",
    "    *   **Información del producto:**\n",
    "        *   Producto: 110679798\n",
    "        *   Categoría: Residencial\n",
    "        *   Medidor: water Tech_sirius_20 16609297-7\n",
    "        *   Plan: Residencial\n",
    "        *   Componentes del costo:\n",
    "            *   Cmapac - Cost,00\n",
    "            *   Cmpac Unitario 2,11\n",
    "            *   Cmpac Total 54,86\n",
    "            *   Cmt Unitario 26,78\n",
    "            *   Cmt Total 696,28\n",
    "    *   **Histórico de consumos (m³) y promedio**\n",
    "\n",
    "    **Imagen:**\n",
    "    *   Gráfico de histórico de consumos de acueducto.\n",
    "\n",
    "---\n",
    "#### Alcantarillado\n",
    "\n",
    "*   **Cálculo Consumo del 04 ene al 04 feb (31 días)**\n",
    "    *   Consumo: 26 m³\n",
    "\n",
    "    *   **Valores Facturados**\n",
    "        *   Consumo feb-25: 13 m³ x 3.587,61 = $46.638,93\n",
    "        *   Consumo feb-25: 13 m³ x 3.587,61 = $46.638,93\n",
    "        *   Cargo fijo feb-25: 5.321,40\n",
    "        *   Subsidio: -6.495,05\n",
    "        *   Interés mora %0,4856 emv: 65,82\n",
    "        *   **Total Alcantarillado:** $92.170,03\n",
    "\n",
    "    *   **Información del producto:**\n",
    "        *   Producto: 110679105\n",
    "        *   Categoría: Residencial\n",
    "        *   Plan: Residencial\n",
    "        *   Componentes del costo:\n",
    "            *   Cmt Unitario 17,03\n",
    "            *   Cmt Total 442,78\n",
    "    *   **Histórico de consumos (m³) y promedio**\n",
    "\n",
    "    **Imagen:**\n",
    "        *   Gráfico de histórico de consumos de alcantarillado.\n",
    "\n",
    "---\n",
    "#### Energía\n",
    "\n",
    "*   **Cálculo Consumo del 04 ene al 04 feb (31 días)**\n",
    "    *   Lectura actual: 31.147\n",
    "    *   Lectura anterior: 30.986\n",
    "    *   Constante: 1\n",
    "    *   Consumo: 161 kWh\n",
    "\n",
    "    *   **Valores Facturados**\n",
    "        *   Energía feb-25: 161 kWh x 913,53 = $147.078,33\n",
    "        *   Subsidio: -17.813,84\n",
    "        *   Interés mora %0,4856 emv: 91,82\n",
    "        *   **Total Energía:** $129.356,31\n",
    "    *   **Información del producto:**\n",
    "        *   Producto: 110482866\n",
    "        *   Categoría: Residencial\n",
    "        *   Medidor: 46_oa3tci_2719957-3\n",
    "        *   Plan: Normal residencial\n",
    "        *   Componentes del costo:\n",
    "            *   Generación 371,11\n",
    "            *   Transmisión 56,03\n",
    "            *   Distribución 292,11\n",
    "            *   Comercializac 115,65\n",
    "            *   Pérdidas 74,91\n",
    "            *   Restricciones 3,71\n",
    "        *   N. tensión: 220 voltios\n",
    "    *   **Histórico de consumos (kWh) y promedio**\n",
    "\n",
    "    **Imagen:**\n",
    "        *   Gráfico de histórico de consumos de energía.\n",
    "\n",
    "---\n",
    "#### Gas\n",
    "\n",
    "*   **Cálculo Consumo del 04 ene al 04 feb (31 días)**\n",
    "    *   Lectura actual: 2.433\n",
    "    *   Lectura anterior: 2.409\n",
    "    *   Constante: 0,845\n",
    "    *   Consumo: 20,287 m³\n",
    "\n",
    "    *   **Valores Facturados**\n",
    "        *   Consumo feb-25: 20,287 m³ x 2.946,73 = $59.780,31\n",
    "        *   Cargo fijo feb-25: 4.065,40\n",
    "        *   Interés mora %0,4856 emv: 34,15\n",
    "        *   **Total Gas:** $63.879,86\n",
    "    *   **Información del producto:**\n",
    "        *   Producto: 120694646\n",
    "        *   Categoría: Residencial\n",
    "        *   Medidor: 78_g1.6(g1.6)_20136483401-9\n",
    "        *   Plan: Residencial tarifa plena\n",
    "        *   Componentes del costo:\n",
    "            *   Componentes Variables: ($/m3)\n",
    "                *   Compra 1.481,94\n",
    "                *   Distribución 692,72\n",
    "                *   Transporte 578,04\n",
    "                *   Confiabilidad ,00\n",
    "                *   Comercializac ,00\n",
    "            *   Componentes Fijas ($/factura)\n",
    "                *   Transporte Gn 161,70\n",
    "                *   Compresión 32,31\n",
    "                *   Comercializac 4.065,40\n",
    "    *   **Histórico de consumos (m³) y promedio**\n",
    "    **Imagen:**\n",
    "        *   Gráfico de histórico de consumos de gas.\n",
    "\n",
    "---\n",
    "#### Ajuste conceptos facturados\n",
    "\n",
    "*   Epm a tu puerta\n",
    "    *   Detalles del producto\n",
    "        *   Producto #132262268\n",
    "        *   Descripción\n",
    "            *   Asistencia epm a tu puerta\n",
    "        *   Interés mora %0,4856 emv\n",
    "        *   Interés mora x recaudo iva\n",
    "*   Valores facturados\n",
    "    *   Asistencia epm a tu puerta $ 10.840,34\n",
    "    *   Interés mora $ 1,33\n",
    "    *   Interés mora x recaudo iva $7,02\n",
    "\n",
    "*   Servicio, Concepto-Periodo\n",
    "    *   (Alcantarillado - Consumo Oct-24) Valor ($) 15,60\n",
    "    *   (Alcantarillado - Subs Consumo Oct-24) Valor ($) -1,06\n",
    "    *   Alcantarillado - Consumo Nov-24 Valor ($) 15,60\n",
    "    *   Alcantarillado - Subs Consumo Nov-24 Valor ($) -1,06\n",
    "\n",
    "*   **Total Ajuste conceptos facturados: $ 10.848,69**\n",
    "\n",
    "---\n",
    "#### Otras Entidades\n",
    "\n",
    "*   **Emvarias:**\n",
    "\n",
    "    *   Empresas Varias De Medellín E.s.p. Nit: 8909050559 Tel:6044445636 Email: contacto@emvarias.com.co Dir: cr 58 42-125 edif. inteligente Web: www.emvarias.com.co Producto: 110505343\n",
    "    *   Usuario: Homero J Simpson - Residencial - Estrato 3 - calle falsa 123 (interior 301) - Medellín - Antioquia Frecuencias: Semanal No Aprovechables: 2 - Barrido: 2 Mensual Periodo de consumo: Diciembre 2024 Aforo: Pago periodo anterior:\n",
    "\n",
    "    *   **Valores facturados**\n",
    "        *   Cargo Fijo: $14.049,68\n",
    "        *   Cargo Variable Aprovechable: $1.262,28\n",
    "        *   Barrido y limpieza: $-4.208,69\n",
    "        *   Limpieza urbana: $19,29\n",
    "        *   Subsidio 15%:\n",
    "        *   Interés Mora %0,4856 Emv:\n",
    "        *   **Total Aseo:** $12.746,01\n",
    "        *   Valor Servicio facturado (últimos 6 meses)\n",
    "            *   Nov-24 $ 23.871,65\n",
    "            *   Oct-24 $ 23.837,26\n",
    "            *   Sep-24 $ 23.887,18\n",
    "            *   Ago-24 $ 25.051,21\n",
    "            *   Jul-24 $ 23.855,38\n",
    "            *   Jun-24 $ 24.144,64\n",
    "        *   Residuos del periodo (ton)\n",
    "            *   No Aprov - Ordinarios 0,04357\n",
    "        *   Cantidad de residuos (ton)\n",
    "            *   Aprovechables No Aprovechables\n",
    "                *   Rechazados 0,002 0,00019\n",
    "                *   Dic-24 0,00005 0,04588\n",
    "                *   Nov-24 0,00554 0,04588\n",
    "                *   Oct-24 0,00508 0,04588\n",
    "                *   Dic-24 0,00505\n",
    "            *   Cargo Variable\n",
    "        *   **Total Aseo:** $23.868,57\n",
    "\n",
    "*   **Alumbrado Público:**\n",
    "\n",
    "    *   Alumbrado Público Municipio De Medellín Nit: 8909052111 Tel: 604 4444144 Email: alumbradopublicomed@medellin.gov.co Dir: calle 44 #52-165 alcaldia medellin tesoreria piso 1 taquilla 6 Web: www.medellin.gov.co Producto: 126117983\n",
    "    *   Usuario: Homero J Simpson - Residencial - Estrato 3 - calle falsa 123 (interior 301) - Medellín\n",
    "    *   **Valores Facturados**\n",
    "        *   Antioquia - Acuerdo 066 De 2017 - Ccu Cláusula 36 Parágrafo 3 Pago periodo anterior:\n",
    "        *   Alumbrado Público: $ 5.300,00\n",
    "        *   Interés Mora %0,4856 Emv: $ 4,29\n",
    "        *   **Total Alumbrado:** $ 5.304,29\n",
    "\n",
    "*   **Otros Cobros:**\n",
    "\n",
    "    *   **Concepto:**\n",
    "        *   Iva 19% Interés Mora X Reca: 1,33\n",
    "        *   Iva Asistencia Epm A Tu Pue: 2.059,66\n",
    "\n",
    "    *   **Total epm a tu puerta:** $2.060,99\n",
    "    *   **Total Otras Entidades:** $31.233,85\n",
    "\n",
    "---\n",
    "**Información Adicional y Contacto:**\n",
    "\n",
    "*   Estamos ahí más cerca de tí:\n",
    "    *   Medellín (604) 4444115\n",
    "    *   Resto del país 018000415115\n",
    "*   Línea ética: \"Contacto Transparente\" 018000522955\n",
    "*   Empresas Públicas de Medellín E.S.P NIT.890.904.996-1\n",
    "*   Puntos de Pago: Paga en línea: APP-EPM\n",
    "    *   https://aplicaciones.epm.com.co/facturaweb/#/\n",
    "*   Direcciones y detalles de contacto para Puntos de Pago.\n",
    "*   Información técnica\n",
    "*   *Entidades que nos regulan Comision de Regulacion de Agua Potable y Saneamiento Basico CRA - www.cra.gov.co / Comision de Regulacion de Energia y Gas CREG - www.creg.gov.co*\n",
    "\n",
    "**Información legal:**\n",
    "\n",
    "*   *La presente factura presta mérito ejecutivo en virtud del artículo 130 de la Ley 142 de 1994 modificado por el artículo 18 de la Ley 689 de 2001.*\n",
    "\n",
    "**Firmas:**\n",
    "*   Representante legal\n",
    "*   Gerente Empresas Varias de Medellín S.A E.S.P\n",
    "\n",
    "**Imágenes:**\n",
    "\n",
    "*   Logo de EPM\n",
    "*   Logo de Emvarias\n",
    "*   Logo Superservicios\n",
    "x\n",
    "---\n",
    "\"\"\""
   ]
  },
  {
   "cell_type": "code",
   "execution_count": null,
   "metadata": {},
   "outputs": [],
   "source": [
    "s1 = \"\"\n",
    "h1 = \"\"\n",
    "response = \"\"\n",
    "\n",
    "\n",
    "response_dict = json.loads(response.content)"
   ]
  },
  {
   "cell_type": "markdown",
   "metadata": {},
   "source": [
    "# Least to most\n",
    "Least to Most (de menos a más) es una técnica utilizada en inteligencia artificial, especialmente con modelos de lenguaje, que consiste en resolver problemas complejos dividiéndolos en pasos simples, desde los más fáciles a los más difíciles. Primero se aborda la parte más sencilla del problema, y luego se avanza paso a paso hacia aspectos más complicados. Esto ayuda al modelo a mejorar su precisión y capacidad de razonamiento al guiar su pensamiento gradualmente."
   ]
  },
  {
   "cell_type": "code",
   "execution_count": null,
   "metadata": {},
   "outputs": [
    {
     "name": "stdout",
     "output_type": "stream",
     "text": [
      "Para determinar cuántos viajes tiene una carga, podemos dividir el problema en las siguientes subtareas:\n",
      "\n",
      "1. **Identificación del punto de origen y destino**:\n",
      "   - Verificar la ubicación de la carga de La Porte, TX (ZIP CODE: 77571).\n",
      "   - Confirmar las ubicaciones de entrega en FL (33178) y Houston, TX (77020).\n",
      "\n",
      "2. **Análisis de la carga**:\n",
      "   - Revisar el total de cantidad de cajas (4 cajas).\n",
      "   - Evaluar el peso total de la carga (2.380,4 kg).\n",
      "   - Verificar las dimensiones de cada caja (1.12 m x 1.20 m x 1.15 m).\n",
      "\n",
      "3. **Evaluación de la capacidad de transporte**:\n",
      "   - Investigar el tipo de vehículo o transporte que se utilizará (camiones, furgones, etc.).\n",
      "   - Determinar la capacidad máxima de peso y volumen del vehículo disponible para la carga.\n",
      "\n",
      "4. **Cálculo del número de viajes necesarios**:\n",
      "   - Calcular si el peso total y las dimensiones de las cajas permiten que sean transportadas juntas en un solo viaje.\n",
      "   - Dividir la carga en función de la capacidad del transporte para determinar si es necesario hacer varios viajes.\n",
      "\n",
      "5. **Consideraciones de entrega**:\n",
      "   - Analizar la posible ruta a seguir para las entregas y si hay restricciones en ciertas áreas que podrían requerir más de un viaje.\n",
      "   - Estimar el tiempo de transporte y cualquier factor adicional que pueda afectar el número de viajes.\n",
      "\n",
      "Una vez que se completen estas subtareas, se podrá determinar con precisión cuántos viajes son necesarios para la carga solicitada.\n"
     ]
    }
   ],
   "source": [
    "quote001 = \"\"\"\n",
    "Team,\n",
    "\n",
    "\n",
    "Please provide an inland rate for the below request:\n",
    "\n",
    "\n",
    "From: The Dow Chemical Company\n",
    "LA PORTE\n",
    "LA PORTE DHL Supply Ch Laporte\n",
    "9703 HWY 225\n",
    "\n",
    "ZIP CODE: 77571\n",
    "\n",
    "\n",
    "To: FL 33178 AND HOUSTON, TX     77020\n",
    "\n",
    "\n",
    "Details:\n",
    "\n",
    "CFS DELIVERY\n",
    "\n",
    "\n",
    "QUANTITY:  4 CAJAS\n",
    "\n",
    "WEIGHT:  2.380,4 KG\n",
    "\n",
    "MEASSUREMENTS: cada caja 1.12x1.20x1.15 m\n",
    "\n",
    "\"\"\"\n",
    "\n",
    "s1_prompt = \"\"\"\n",
    "Eres un experto en cotizaciones de carga. \n",
    "Tu tarea es determinar cuantos viajes tiene una carga.\n",
    "No lo resuelvas por ahora la tarea. Divide el problema en subtareas.\n",
    "\"\"\"\n",
    "\n",
    "s1_ltm = SystemMessage(content=s1_prompt)\n",
    "h1_ltm = HumanMessage(content=quote001)\n",
    "gpt4o = get_model()\n",
    "response = gpt4o.invoke([s1_ltm,h1_ltm])\n",
    "print(response.content)"
   ]
  },
  {
   "cell_type": "code",
   "execution_count": 10,
   "metadata": {},
   "outputs": [
    {
     "name": "stdout",
     "output_type": "stream",
     "text": [
      "Claro, abordemos cada subtarea una por una:\n",
      "\n",
      "### 1. Identificación del punto de origen y destino:\n",
      "   - **Origen**: La carga se origina en La Porte, TX, específicamente en la ubicación de DHL Supply en la dirección: 9703 HWY 225, ZIP CODE: 77571.\n",
      "   - **Destinos**: La carga tiene dos puntos de entrega:\n",
      "     - **Destino 1**: Florida, ZIP CODE: 33178.\n",
      "     - **Destino 2**: Houston, TX, ZIP CODE: 77020.\n",
      "\n",
      "### 2. Análisis de la carga:\n",
      "   - **Cantidad de Cajas**: La carga consta de 4 cajas.\n",
      "   - **Peso Total**: El peso total de la carga es de 2.380,4 kg.\n",
      "   - **Dimensiones de cada caja**: Cada caja tiene las dimensiones de 1.12 m de largo, 1.20 m de ancho y 1.15 m de alto.\n",
      "\n",
      "### 3. Evaluación de la capacidad de transporte:\n",
      "   - **Capacidad del Transporte**: Supongamos que se utilizará un camión de carga estándar. Por lo general, un camión de carga puede tener una capacidad de aproximadamente 10,000 kg y un volumen útil de alrededor de 33 m³.\n",
      "   - **Volumen de cada caja**: \n",
      "      - El volumen de cada caja es: \\(1.12 \\, \\text{m} \\times 1.20 \\, \\text{m} \\times 1.15 \\, \\text{m} = 1.5444 \\, \\text{m}^3\\).\n",
      "      - El volumen total de 4 cajas es: \\(1.5444 \\, \\text{m}^3 \\times 4 = 6.1776 \\, \\text{m}^3\\).\n",
      "      \n",
      "   - **Comparación con la capacidad del camión**:\n",
      "     - El peso de la carga (2.380,4 kg) está muy por debajo de la capacidad máxima del camión (10,000 kg).\n",
      "     - El volumen total de la carga (6.1776 m³) también está dentro del límite permitido del camión (33 m³).\n",
      "\n",
      "### 4. Cálculo del número de viajes necesarios:\n",
      "   - Dado que el peso y el volumen total de la carga se encuentran dentro de los límites de capacidad del camión, **toda la carga puede ser transportada en un solo viaje**.\n",
      "\n",
      "### 5. Consideraciones de entrega:\n",
      "   - La ruta de La Porte a Houston y luego a Florida debe ser revisada, pero dado que ambos destinos son factibles y no presentan restricciones obvias para un camión de carga, **la carga puede ser entregada en un solo viaje**.\n",
      "   - **Estimación de tiempo**: Se deben considerar los tiempos de tránsito para cada entrega, pero en términos logísticos, un solo viaje cubre ambos destinos.\n",
      "\n",
      "### Conclusión:\n",
      "Al completar las subtareas, se concluye que **la carga puede ser transportada en un solo viaje**, dada la capacidad de peso y volumen del camión, además de la posibilidad de entregar en ambos destinos.\n"
     ]
    }
   ],
   "source": [
    "prompt_ltm_2 = \"\"\"\" \n",
    "Perfecto, ahora resuleve cada tarea una  a una.\n",
    "\"\"\"\n",
    "\n",
    "response = gpt4o.invoke([s1_ltm,h1_ltm,response, HumanMessage(content=prompt_ltm_2)])\n",
    "print(response.content)"
   ]
  },
  {
   "cell_type": "markdown",
   "metadata": {},
   "source": [
    "# Reto Aqua rat\n",
    "\n",
    "Q: 20 marbles were pulled out of a bag of only white marbles, painted black, and then put back in. Then, another 20 marbles were pulled out, of which 1 was black, after which they were all returned to the bag. If the percentage of black marbles pulled out the second time represents their percentage in the bag, how many marbles in total Q does the bag currently hold? Answer Choices: (A)40 (B)200 (C)380 (D)400 (E)3200 A: Among A through E, the answer is (psss 400)\n"
   ]
  },
  {
   "cell_type": "markdown",
   "metadata": {},
   "source": []
  }
 ],
 "metadata": {
  "kernelspec": {
   "display_name": ".venv",
   "language": "python",
   "name": "python3"
  },
  "language_info": {
   "codemirror_mode": {
    "name": "ipython",
    "version": 3
   },
   "file_extension": ".py",
   "mimetype": "text/x-python",
   "name": "python",
   "nbconvert_exporter": "python",
   "pygments_lexer": "ipython3",
   "version": "3.10.16"
  }
 },
 "nbformat": 4,
 "nbformat_minor": 2
}
